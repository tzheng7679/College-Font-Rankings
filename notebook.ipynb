{
 "cells": [
  {
   "cell_type": "markdown",
   "metadata": {},
   "source": [
    "# Is there a correlation between font choice and college ranking?\n",
    "### An frivilous exploration started on a whim \n",
    "#### By: Tony Zheng"
   ]
  },
  {
   "cell_type": "markdown",
   "metadata": {},
   "source": [
    "## Methedology\n",
    "This exploration is done using the US News university rankings for 2024, collected using a slightly modified version of <a href=\"https://github.com/kajchang/\">kajchang</a>'s <a href=\"https://github.com/kajchang/USNews-College-Scraper\">scraper</a> to collect university website URLs and ranks (outputted to <a href=\"Scraper/data-detailed.csv\">a csv</a>)."
   ]
  },
  {
   "cell_type": "code",
   "execution_count": 1,
   "metadata": {},
   "outputs": [
    {
     "name": "stdout",
     "output_type": "stream",
     "text": [
      "Fetching https://www.usnews.com/best-colleges/api/search?_sort=rank&_sortDirection=asc&_page=1...\n",
      "Fetching https://www.usnews.com/best-colleges/api/search?_sort=rank&_sortDirection=asc&_page=2...\n",
      "Fetching https://www.usnews.com/best-colleges/api/search?_sort=rank&_sortDirection=asc&_page=3...\n",
      "Fetching https://www.usnews.com/best-colleges/api/search?_sort=rank&_sortDirection=asc&_page=4...\n",
      "Fetching https://www.usnews.com/best-colleges/api/search?_sort=rank&_sortDirection=asc&_page=5...\n",
      "Fetching https://www.usnews.com/best-colleges/api/search?_sort=rank&_sortDirection=asc&_page=6...\n",
      "Fetching https://www.usnews.com/best-colleges/api/search?_sort=rank&_sortDirection=asc&_page=7...\n",
      "Fetching https://www.usnews.com/best-colleges/api/search?_sort=rank&_sortDirection=asc&_page=8...\n",
      "Fetching https://www.usnews.com/best-colleges/api/search?_sort=rank&_sortDirection=asc&_page=9...\n",
      "Fetching https://www.usnews.com/best-colleges/api/search?_sort=rank&_sortDirection=asc&_page=10...\n",
      "Fetching https://www.usnews.com/best-colleges/api/search?_sort=rank&_sortDirection=asc&_page=11...\n",
      "Fetching https://www.usnews.com/best-colleges/api/search?_sort=rank&_sortDirection=asc&_page=12...\n",
      "Fetching https://www.usnews.com/best-colleges/api/search?_sort=rank&_sortDirection=asc&_page=13...\n",
      "Fetching https://www.usnews.com/best-colleges/api/search?_sort=rank&_sortDirection=asc&_page=14...\n",
      "Fetching https://www.usnews.com/best-colleges/api/search?_sort=rank&_sortDirection=asc&_page=15...\n"
     ]
    }
   ],
   "source": [
    "from Scraper.main import main as scrape\n",
    "\n",
    "# each page has 10 schools in it\n",
    "scrape(n_pages = 15)"
   ]
  },
  {
   "cell_type": "markdown",
   "metadata": {},
   "source": [
    "Let's see what it looks like as a DF"
   ]
  },
  {
   "cell_type": "code",
   "execution_count": 4,
   "metadata": {},
   "outputs": [
    {
     "data": {
      "text/html": [
       "<div>\n",
       "<style scoped>\n",
       "    .dataframe tbody tr th:only-of-type {\n",
       "        vertical-align: middle;\n",
       "    }\n",
       "\n",
       "    .dataframe tbody tr th {\n",
       "        vertical-align: top;\n",
       "    }\n",
       "\n",
       "    .dataframe thead th {\n",
       "        text-align: right;\n",
       "    }\n",
       "</style>\n",
       "<table border=\"1\" class=\"dataframe\">\n",
       "  <thead>\n",
       "    <tr style=\"text-align: right;\">\n",
       "      <th></th>\n",
       "      <th>institution.displayName</th>\n",
       "      <th>ranking.sortRank</th>\n",
       "      <th>ranking.isTied</th>\n",
       "      <th>Visit School Website</th>\n",
       "    </tr>\n",
       "  </thead>\n",
       "  <tbody>\n",
       "    <tr>\n",
       "      <th>0</th>\n",
       "      <td>Princeton University</td>\n",
       "      <td>1</td>\n",
       "      <td>False</td>\n",
       "      <td>http://www.princeton.edu</td>\n",
       "    </tr>\n",
       "    <tr>\n",
       "      <th>1</th>\n",
       "      <td>Massachusetts Institute of Technology</td>\n",
       "      <td>2</td>\n",
       "      <td>False</td>\n",
       "      <td>http://web.mit.edu/</td>\n",
       "    </tr>\n",
       "    <tr>\n",
       "      <th>2</th>\n",
       "      <td>Harvard University</td>\n",
       "      <td>3</td>\n",
       "      <td>True</td>\n",
       "      <td>http://www.harvard.edu/</td>\n",
       "    </tr>\n",
       "    <tr>\n",
       "      <th>3</th>\n",
       "      <td>Stanford University</td>\n",
       "      <td>3</td>\n",
       "      <td>True</td>\n",
       "      <td>http://www.stanford.edu</td>\n",
       "    </tr>\n",
       "    <tr>\n",
       "      <th>4</th>\n",
       "      <td>Yale University</td>\n",
       "      <td>5</td>\n",
       "      <td>False</td>\n",
       "      <td>http://www.yale.edu/</td>\n",
       "    </tr>\n",
       "    <tr>\n",
       "      <th>...</th>\n",
       "      <td>...</td>\n",
       "      <td>...</td>\n",
       "      <td>...</td>\n",
       "      <td>...</td>\n",
       "    </tr>\n",
       "    <tr>\n",
       "      <th>145</th>\n",
       "      <td>Thomas Jefferson University</td>\n",
       "      <td>142</td>\n",
       "      <td>True</td>\n",
       "      <td>http://www.jefferson.edu/</td>\n",
       "    </tr>\n",
       "    <tr>\n",
       "      <th>146</th>\n",
       "      <td>University of Alabama at Birmingham</td>\n",
       "      <td>142</td>\n",
       "      <td>True</td>\n",
       "      <td>https://www.uab.edu</td>\n",
       "    </tr>\n",
       "    <tr>\n",
       "      <th>147</th>\n",
       "      <td>University of Cincinnati</td>\n",
       "      <td>142</td>\n",
       "      <td>True</td>\n",
       "      <td>http://www.uc.edu</td>\n",
       "    </tr>\n",
       "    <tr>\n",
       "      <th>148</th>\n",
       "      <td>University of the Pacific</td>\n",
       "      <td>142</td>\n",
       "      <td>True</td>\n",
       "      <td>http://www.pacific.edu</td>\n",
       "    </tr>\n",
       "    <tr>\n",
       "      <th>149</th>\n",
       "      <td>Virginia Commonwealth University</td>\n",
       "      <td>142</td>\n",
       "      <td>True</td>\n",
       "      <td>https://www.vcu.edu</td>\n",
       "    </tr>\n",
       "  </tbody>\n",
       "</table>\n",
       "<p>150 rows × 4 columns</p>\n",
       "</div>"
      ],
      "text/plain": [
       "                   institution.displayName  ranking.sortRank  ranking.isTied  \\\n",
       "0                     Princeton University                 1           False   \n",
       "1    Massachusetts Institute of Technology                 2           False   \n",
       "2                       Harvard University                 3            True   \n",
       "3                      Stanford University                 3            True   \n",
       "4                          Yale University                 5           False   \n",
       "..                                     ...               ...             ...   \n",
       "145            Thomas Jefferson University               142            True   \n",
       "146    University of Alabama at Birmingham               142            True   \n",
       "147               University of Cincinnati               142            True   \n",
       "148              University of the Pacific               142            True   \n",
       "149       Virginia Commonwealth University               142            True   \n",
       "\n",
       "          Visit School Website  \n",
       "0     http://www.princeton.edu  \n",
       "1          http://web.mit.edu/  \n",
       "2      http://www.harvard.edu/  \n",
       "3      http://www.stanford.edu  \n",
       "4         http://www.yale.edu/  \n",
       "..                         ...  \n",
       "145  http://www.jefferson.edu/  \n",
       "146        https://www.uab.edu  \n",
       "147          http://www.uc.edu  \n",
       "148     http://www.pacific.edu  \n",
       "149        https://www.vcu.edu  \n",
       "\n",
       "[150 rows x 4 columns]"
      ]
     },
     "execution_count": 4,
     "metadata": {},
     "output_type": "execute_result"
    }
   ],
   "source": [
    "import pandas as pd\n",
    "\n",
    "data = pd.read_csv(\"Scraper/data-detailed.csv\")\n",
    "data"
   ]
  },
  {
   "cell_type": "markdown",
   "metadata": {},
   "source": [
    "... and make sure that no URLs are missing"
   ]
  },
  {
   "cell_type": "code",
   "execution_count": 5,
   "metadata": {},
   "outputs": [
    {
     "data": {
      "text/plain": [
       "institution.displayName    0\n",
       "ranking.sortRank           0\n",
       "ranking.isTied             0\n",
       "Visit School Website       0\n",
       "dtype: int64"
      ]
     },
     "execution_count": 5,
     "metadata": {},
     "output_type": "execute_result"
    }
   ],
   "source": [
    "data.isna().sum()"
   ]
  },
  {
   "cell_type": "code",
   "execution_count": 1,
   "metadata": {},
   "outputs": [
    {
     "ename": "ModuleNotFoundError",
     "evalue": "No module named 'bs4'",
     "output_type": "error",
     "traceback": [
      "\u001b[1;31m---------------------------------------------------------------------------\u001b[0m",
      "\u001b[1;31mModuleNotFoundError\u001b[0m                       Traceback (most recent call last)",
      "\u001b[1;32m~\\AppData\\Local\\Temp\\ipykernel_10212\\1618003933.py\u001b[0m in \u001b[0;36m<module>\u001b[1;34m\u001b[0m\n\u001b[1;32m----> 1\u001b[1;33m \u001b[1;32mfrom\u001b[0m \u001b[0mbs4\u001b[0m \u001b[1;32mimport\u001b[0m \u001b[0mBeautifulSoup\u001b[0m\u001b[1;33m\u001b[0m\u001b[1;33m\u001b[0m\u001b[0m\n\u001b[0m\u001b[0;32m      2\u001b[0m \u001b[1;32mfrom\u001b[0m \u001b[0mselenium\u001b[0m \u001b[1;32mimport\u001b[0m \u001b[0mwebdriver\u001b[0m\u001b[1;33m\u001b[0m\u001b[1;33m\u001b[0m\u001b[0m\n\u001b[0;32m      3\u001b[0m \u001b[1;33m\u001b[0m\u001b[0m\n\u001b[0;32m      4\u001b[0m \u001b[1;32mdef\u001b[0m \u001b[0mget_font_proportion\u001b[0m\u001b[1;33m(\u001b[0m\u001b[0murl\u001b[0m\u001b[1;33m)\u001b[0m\u001b[1;33m:\u001b[0m\u001b[1;33m\u001b[0m\u001b[1;33m\u001b[0m\u001b[0m\n\u001b[0;32m      5\u001b[0m     \u001b[0mpage\u001b[0m \u001b[1;33m=\u001b[0m \u001b[0mrequests\u001b[0m\u001b[1;33m.\u001b[0m\u001b[0mget\u001b[0m\u001b[1;33m(\u001b[0m\u001b[0murl\u001b[0m\u001b[1;33m)\u001b[0m\u001b[1;33m\u001b[0m\u001b[1;33m\u001b[0m\u001b[0m\n",
      "\u001b[1;31mModuleNotFoundError\u001b[0m: No module named 'bs4'"
     ]
    }
   ],
   "source": [
    "from selenium import webdriver\n",
    "\n",
    "# def get_font_proportion(url):\n",
    "    # page = requests.get(url)\n",
    "driver = webdriver.Firefox(executable_path=\"Scraper/geckodriver.exe\")\n",
    "\n",
    "get_font_proportion(\"https://www.osu.edu\")"
   ]
  }
 ],
 "metadata": {
  "kernelspec": {
   "display_name": "Scraping",
   "language": "python",
   "name": "python3"
  },
  "language_info": {
   "codemirror_mode": {
    "name": "ipython",
    "version": 3
   },
   "file_extension": ".py",
   "mimetype": "text/x-python",
   "name": "python",
   "nbconvert_exporter": "python",
   "pygments_lexer": "ipython3",
   "version": "3.7.12"
  }
 },
 "nbformat": 4,
 "nbformat_minor": 2
}
