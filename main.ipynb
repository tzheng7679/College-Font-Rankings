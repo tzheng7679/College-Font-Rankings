{
 "cells": [
  {
   "cell_type": "markdown",
   "metadata": {},
   "source": [
    "# Is there a correlation between font choice and college ranking?\n",
    "### An frivilous exploration started on a whim \n",
    "#### By: Tony Zheng"
   ]
  },
  {
   "cell_type": "markdown",
   "metadata": {},
   "source": [
    "## Methedology\n",
    "This exploration is done using the US News university rankings for 2024, collected using <a href=\"https://github.com/kajchang/\">kajchang</a>'s <a href=\"https://github.com/kajchang/USNews-College-Scraper\">scraper</a> to collect university website URLs and ranks. I then "
   ]
  }
 ],
 "metadata": {
  "language_info": {
   "name": "python"
  }
 },
 "nbformat": 4,
 "nbformat_minor": 2
}
